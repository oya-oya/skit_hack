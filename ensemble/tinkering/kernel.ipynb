{
 "cells": [
  {
   "cell_type": "markdown",
   "metadata": {
    "_uuid": "5bc8c202445b35ef966f39cab9e8306ceafdcce8"
   },
   "source": [
    "# Retailrocket EDA"
   ]
  },
  {
   "cell_type": "markdown",
   "metadata": {
    "_uuid": "bace13d8ede56a554369315245a1fba374439f72"
   },
   "source": [
    "First off: What files do we have?\n",
    "\n",
    "首先，看一下我们有哪些数据。"
   ]
  },
  {
   "cell_type": "code",
   "execution_count": null,
   "metadata": {
    "_uuid": "b26fa4e6e8f29886c1d0316e464867a98fb0fbad"
   },
   "outputs": [],
   "source": [
    "##USE IN GOOGLE COLAB For support of library without interuption... "
   ]
  },
  {
   "cell_type": "markdown",
   "metadata": {
    "_uuid": "71f3bf41be33b779723288b27ba7a44e5039e79c"
   },
   "source": [
    "Not very big data.\n",
    "\n",
    "数据不算太大。"
   ]
  },
  {
   "cell_type": "code",
   "execution_count": 1,
   "metadata": {
    "_cell_guid": "b1076dfc-b9ad-4769-8c92-a6c4dae69d19",
    "_kg_hide-output": false,
    "_uuid": "8f2839f25d086af736a60e9eeb907d3b93b6e0e5"
   },
   "outputs": [
    {
     "ename": "ModuleNotFoundError",
     "evalue": "No module named 'seaborn'",
     "output_type": "error",
     "traceback": [
      "\u001b[1;31m---------------------------------------------------------------------------\u001b[0m",
      "\u001b[1;31mModuleNotFoundError\u001b[0m                       Traceback (most recent call last)",
      "\u001b[1;32m<ipython-input-1-e7ec3c2fe452>\u001b[0m in \u001b[0;36m<module>\u001b[1;34m()\u001b[0m\n\u001b[0;32m      5\u001b[0m \u001b[1;32mimport\u001b[0m \u001b[0mnumpy\u001b[0m \u001b[1;32mas\u001b[0m \u001b[0mnp\u001b[0m\u001b[1;33m\u001b[0m\u001b[0m\n\u001b[0;32m      6\u001b[0m \u001b[1;32mimport\u001b[0m \u001b[0mpandas\u001b[0m \u001b[1;32mas\u001b[0m \u001b[0mpd\u001b[0m\u001b[1;33m\u001b[0m\u001b[0m\n\u001b[1;32m----> 7\u001b[1;33m \u001b[1;32mimport\u001b[0m \u001b[0mseaborn\u001b[0m \u001b[1;32mas\u001b[0m \u001b[0msns\u001b[0m\u001b[1;33m\u001b[0m\u001b[0m\n\u001b[0m\u001b[0;32m      8\u001b[0m \u001b[1;32mfrom\u001b[0m \u001b[0mlightfm\u001b[0m \u001b[1;32mimport\u001b[0m \u001b[0mLightFM\u001b[0m\u001b[1;33m\u001b[0m\u001b[0m\n\u001b[0;32m      9\u001b[0m \u001b[1;32mfrom\u001b[0m \u001b[0mlightfm\u001b[0m\u001b[1;33m.\u001b[0m\u001b[0mevaluation\u001b[0m \u001b[1;32mimport\u001b[0m \u001b[0mauc_score\u001b[0m\u001b[1;33m\u001b[0m\u001b[0m\n",
      "\u001b[1;31mModuleNotFoundError\u001b[0m: No module named 'seaborn'"
     ]
    }
   ],
   "source": [
    "import datetime\n",
    "\n",
    "import matplotlib.pyplot as plt\n",
    "from matplotlib import font_manager as fm\n",
    "import numpy as np\n",
    "import pandas as pd\n",
    "import seaborn as sns\n",
    "from lightfm import LightFM\n",
    "from lightfm.evaluation import auc_score\n",
    "from scipy.sparse import coo_matrix\n",
    "from sklearn import preprocessing\n",
    "\n",
    "sns.set()"
   ]
  },
  {
   "cell_type": "markdown",
   "metadata": {
    "_uuid": "ae554597b0909398b3a08e3b6a21b3b6bca9ac09"
   },
   "source": [
    "Let'us do an Exploratory Data Analysis (EDA)"
   ]
  },
  {
   "cell_type": "markdown",
   "metadata": {
    "_uuid": "37d3f950ccafaea18625434d322682e929380867"
   },
   "source": [
    "## Events\n",
    "\n",
    "Users' click stream data"
   ]
  },
  {
   "cell_type": "code",
   "execution_count": 2,
   "metadata": {
    "_cell_guid": "79c7e3d0-c299-4dcb-8224-4455121ee9b0",
    "_uuid": "d629ff2d2480ee46fbb7e2d37f6b5fab8052498a"
   },
   "outputs": [
    {
     "name": "stdout",
     "output_type": "stream",
     "text": [
      "Shape: (2756101, 5)\n",
      "Columns ['timestamp', 'visitorid', 'event', 'itemid', 'transactionid']\n"
     ]
    },
    {
     "data": {
      "text/html": [
       "<div>\n",
       "<style scoped>\n",
       "    .dataframe tbody tr th:only-of-type {\n",
       "        vertical-align: middle;\n",
       "    }\n",
       "\n",
       "    .dataframe tbody tr th {\n",
       "        vertical-align: top;\n",
       "    }\n",
       "\n",
       "    .dataframe thead th {\n",
       "        text-align: right;\n",
       "    }\n",
       "</style>\n",
       "<table border=\"1\" class=\"dataframe\">\n",
       "  <thead>\n",
       "    <tr style=\"text-align: right;\">\n",
       "      <th></th>\n",
       "      <th>timestamp</th>\n",
       "      <th>visitorid</th>\n",
       "      <th>event</th>\n",
       "      <th>itemid</th>\n",
       "      <th>transactionid</th>\n",
       "    </tr>\n",
       "  </thead>\n",
       "  <tbody>\n",
       "    <tr>\n",
       "      <th>0</th>\n",
       "      <td>1433221332117</td>\n",
       "      <td>257597</td>\n",
       "      <td>view</td>\n",
       "      <td>355908</td>\n",
       "      <td>NaN</td>\n",
       "    </tr>\n",
       "    <tr>\n",
       "      <th>1</th>\n",
       "      <td>1433224214164</td>\n",
       "      <td>992329</td>\n",
       "      <td>view</td>\n",
       "      <td>248676</td>\n",
       "      <td>NaN</td>\n",
       "    </tr>\n",
       "    <tr>\n",
       "      <th>2</th>\n",
       "      <td>1433221999827</td>\n",
       "      <td>111016</td>\n",
       "      <td>view</td>\n",
       "      <td>318965</td>\n",
       "      <td>NaN</td>\n",
       "    </tr>\n",
       "    <tr>\n",
       "      <th>3</th>\n",
       "      <td>1433221955914</td>\n",
       "      <td>483717</td>\n",
       "      <td>view</td>\n",
       "      <td>253185</td>\n",
       "      <td>NaN</td>\n",
       "    </tr>\n",
       "    <tr>\n",
       "      <th>4</th>\n",
       "      <td>1433221337106</td>\n",
       "      <td>951259</td>\n",
       "      <td>view</td>\n",
       "      <td>367447</td>\n",
       "      <td>NaN</td>\n",
       "    </tr>\n",
       "  </tbody>\n",
       "</table>\n",
       "</div>"
      ],
      "text/plain": [
       "       timestamp  visitorid event  itemid  transactionid\n",
       "0  1433221332117     257597  view  355908            NaN\n",
       "1  1433224214164     992329  view  248676            NaN\n",
       "2  1433221999827     111016  view  318965            NaN\n",
       "3  1433221955914     483717  view  253185            NaN\n",
       "4  1433221337106     951259  view  367447            NaN"
      ]
     },
     "execution_count": 2,
     "metadata": {},
     "output_type": "execute_result"
    }
   ],
   "source": [
    "events = pd.read_csv('./events/events.csv')\n",
    "print('Shape:', events.shape)\n",
    "print('Columns', events.columns.tolist())\n",
    "events.head()"
   ]
  },
  {
   "cell_type": "code",
   "execution_count": 3,
   "metadata": {
    "_uuid": "dd044f03049460f05c82d32b1fa291812c1e3026"
   },
   "outputs": [],
   "source": [
    "data = events.event.value_counts()"
   ]
  },
  {
   "cell_type": "code",
   "execution_count": null,
   "metadata": {
    "_uuid": "9bf029facd90c4324c271021ac84e1dd9ab4d4ad"
   },
   "outputs": [],
   "source": [
    "labels = data.index\n",
    "sizes = data.values\n",
    "explode = (0, 0.1, 0.2)\n",
    "fig, ax = plt.subplots(figsize=(6,6))\n",
    "colors = ['b', 'g', 'r']\n",
    "\n",
    "patches, texts, autotexts = ax.pie(sizes, labels=labels, explode=explode, autopct='%1.2f%%', shadow=False, startangle=90, colors=colors)\n",
    "\n",
    "properties = fm.FontProperties()\n",
    "properties.set_size('x-large')\n",
    "# font size include: xx-small, x-small, small, medium, large, x-large, xx-large, larger, smaller, None\n",
    "\n",
    "plt.setp(autotexts, fontproperties=properties)\n",
    "plt.setp(texts, fontproperties=properties)\n",
    "\n",
    "ax.axis('equal')\n",
    "plt.show()"
   ]
  },
  {
   "cell_type": "markdown",
   "metadata": {
    "_uuid": "f5aba9f44f8046cffccd83dd7dca00af712f2831"
   },
   "source": [
    "## Items\n",
    "Unique id of the item"
   ]
  },
  {
   "cell_type": "code",
   "execution_count": null,
   "metadata": {
    "_uuid": "8e6def18681c6be69509bdf529394222d91e5b75"
   },
   "outputs": [],
   "source": [
    "items = events.itemid.value_counts()\n",
    "for i in [2, 10, 50, 100, 1000]:\n",
    "    print(f'Items that appear less than {i:>4} times:\\\n",
    "          {round((items < i).mean() * 100, 2)}%')\n",
    "\n",
    "items.head(10)"
   ]
  },
  {
   "cell_type": "code",
   "execution_count": null,
   "metadata": {
    "_uuid": "3bed40d8abcdf61a0a02a4631e12b6e8bd160d91"
   },
   "outputs": [],
   "source": [
    "plt.figure(figsize=(16, 9))\n",
    "plt.hist(items.values, bins=50, log=True)\n",
    "plt.xlabel('Number of times item appeared', fontsize=16)\n",
    "plt.ylabel('log(Count of displays with item)', fontsize=16)\n",
    "plt.show()"
   ]
  },
  {
   "cell_type": "markdown",
   "metadata": {
    "_uuid": "6f83b60c614482f295a71406d66ee7c59a941e82"
   },
   "source": [
    "## Visitors"
   ]
  },
  {
   "cell_type": "code",
   "execution_count": null,
   "metadata": {
    "_uuid": "4db1a73f93f375c0ef48ed27510912dce49e1ecd"
   },
   "outputs": [],
   "source": [
    "visitors = events.visitorid.value_counts()\n",
    "for i in [2, 5, 10, 15]:\n",
    "    print(f'Visitors that appear less than {i:>2} times:\\\n",
    "          {round((visitors < i).mean() * 100, 2):.02f}%')\n",
    "\n",
    "visitors.head(10)"
   ]
  },
  {
   "cell_type": "code",
   "execution_count": null,
   "metadata": {
    "_uuid": "f0c6ca80ae121be370cf5895cd50af6e6b1f5bd6"
   },
   "outputs": [],
   "source": [
    "plt.figure(figsize=(16, 9))\n",
    "plt.hist(visitors.values, bins=50, log=True)\n",
    "plt.xlabel('Number of times visitor appeared', fontsize=16)\n",
    "plt.ylabel('log(Count of displays with visitor)', fontsize=16)\n",
    "plt.show()"
   ]
  },
  {
   "cell_type": "markdown",
   "metadata": {
    "_uuid": "2c9460d1bfd23a8cf55611cfc17e10e81481b5c6"
   },
   "source": [
    "## Timestamp"
   ]
  },
  {
   "cell_type": "code",
   "execution_count": null,
   "metadata": {
    "_uuid": "648f200fcd49293562e5a46d66454b8d522d7d9e"
   },
   "outputs": [],
   "source": [
    "hour = lambda x: (datetime.datetime.fromtimestamp(x)-datetime.timedelta(hours=5)).hour\n",
    "timestamp = events[['timestamp', 'event']].copy()\n",
    "timestamp['timestamp'] = timestamp.timestamp / 1000\n",
    "timestamp['hour'] = timestamp['timestamp'].apply(hour)\n",
    "\n",
    "timestamp.head()"
   ]
  },
  {
   "cell_type": "markdown",
   "metadata": {
    "_uuid": "f5f078a1e42e6584c3e0e7ad1a7d48550aa6fa6b"
   },
   "source": [
    "##The timestamp is UTC standard time, while the US 48 states have four time zones UTC-5 to UTC-8, assuming a UTC-5 time zone.\n"
   ]
  },
  {
   "cell_type": "code",
   "execution_count": null,
   "metadata": {
    "_uuid": "07b9ab02020c20f1ba258639d577b219bb43b22e"
   },
   "outputs": [],
   "source": [
    "plt.figure(figsize=(12,6))\n",
    "timestamp.hour.hist(bins=np.linspace(-0.5, 23.5, 25), alpha=1, density=True)\n",
    "plt.xlim(-0.5, 23.5)\n",
    "plt.xlabel(\"Hour of Day\")\n",
    "plt.ylabel(\"Fraction of Events\")\n",
    "plt.show()"
   ]
  },
  {
   "cell_type": "markdown",
   "metadata": {
    "_uuid": "89402e2d1bb6b5053ad9bbc73d7b64d2dfd98a7c"
   },
   "source": [
    "##The time of viewing, adding to cart, purchasing, etc. is basically in line with daily routine."
   ]
  },
  {
   "cell_type": "markdown",
   "metadata": {
    "_uuid": "605b114216c2c22e26c54bfc53fd1c5b95960223"
   },
   "source": [
    "## Item Properties"
   ]
  },
  {
   "cell_type": "code",
   "execution_count": null,
   "metadata": {
    "_uuid": "7ce012037c3c6bf16857573f2b68ac88d000d5a9"
   },
   "outputs": [],
   "source": [
    "properties = pd.concat([pd.read_csv('../input/item_properties_part1.csv'), pd.read_csv('../input/item_properties_part2.csv')])\n",
    "print('Shape:', properties.shape)\n",
    "print('Columns', properties.columns.tolist())\n",
    "properties.head()"
   ]
  },
  {
   "cell_type": "markdown",
   "metadata": {
    "_uuid": "a020819bf8e77930d27510fcfda1df0fff0fcf52"
   },
   "source": [
    "All of them had been hashed excluding \"categoryid\" and \"available\", so most of the data doesn't make sense."
   ]
  },
  {
   "cell_type": "code",
   "execution_count": null,
   "metadata": {
    "_uuid": "d95064bf2745ed537c144caa72e6dead9f068e59"
   },
   "outputs": [],
   "source": [
    "properties = properties.loc[properties.property.isin(['categoryid', 'available']), :]\n",
    "print('Shape:', properties.shape)\n",
    "properties.head()"
   ]
  },
  {
   "cell_type": "code",
   "execution_count": null,
   "metadata": {
    "_uuid": "beac99f3efbdf61d8c6c05021a0c859c0f948280"
   },
   "outputs": [],
   "source": [
    "categoryid = properties[properties.property=='categoryid'].drop_duplicates('itemid', keep='first')\n",
    "available = properties[properties.property=='available']"
   ]
  },
  {
   "cell_type": "code",
   "execution_count": null,
   "metadata": {
    "_uuid": "2614ec0cf8b7f046711ed99d3086d0ed05d3f4c5",
    "scrolled": true
   },
   "outputs": [],
   "source": [
    "categoryid.head()"
   ]
  },
  {
   "cell_type": "markdown",
   "metadata": {
    "_uuid": "5976bd6d57ef68b74a1d2a39b0b171f81e1d1f78"
   },
   "source": [
    "##My understanding is that the category corresponding to the product, the similar products can be recommended."
   ]
  },
  {
   "cell_type": "code",
   "execution_count": null,
   "metadata": {
    "_uuid": "8e6def18681c6be69509bdf529394222d91e5b75"
   },
   "outputs": [],
   "source": [
    "categories = categoryid.value.value_counts()\n",
    "categories.head(10)"
   ]
  },
  {
   "cell_type": "code",
   "execution_count": null,
   "metadata": {
    "_uuid": "c76e5f479044ad1c7b97bfe65125324ffbffa99d"
   },
   "outputs": [],
   "source": [
    "for i in [2, 10, 50, 100, 500, 1000, 5000]:\n",
    "    print(f'Categories that appear less than {i:>4} times:\\\n",
    "          {round((categories < i).mean() * 100, 2)}%')"
   ]
  },
  {
   "cell_type": "code",
   "execution_count": null,
   "metadata": {
    "_uuid": "3bed40d8abcdf61a0a02a4631e12b6e8bd160d91",
    "scrolled": false
   },
   "outputs": [],
   "source": [
    "plt.figure(figsize=(16, 9))\n",
    "plt.hist(categories.values, bins=50, log=True)\n",
    "plt.xlabel('Number of times categories appeared', fontsize=16)\n",
    "plt.ylabel('log(Count of displays with category)', fontsize=16)\n",
    "plt.show()"
   ]
  },
  {
   "cell_type": "code",
   "execution_count": null,
   "metadata": {
    "_uuid": "b7b3cc26a861cf681ee4166d8163992b2a41123a"
   },
   "outputs": [],
   "source": [
    "item_category = categoryid[['itemid', 'value']]\n",
    "item_category.columns = ['itemid', 'categoryid']\n",
    "item_category.head()"
   ]
  },
  {
   "cell_type": "code",
   "execution_count": null,
   "metadata": {
    "_uuid": "a33aae3e49e62f86d6c28636da6f8449c5c46aef",
    "scrolled": true
   },
   "outputs": [],
   "source": [
    "available.head()"
   ]
  },
  {
   "cell_type": "markdown",
   "metadata": {
    "_uuid": "80c35d289fef87420667cf8cfe90e8c26242b7fd"
   },
   "source": [
    "##category tree"
   ]
  },
  {
   "cell_type": "code",
   "execution_count": null,
   "metadata": {
    "_uuid": "3443804a1c7f8272a14528e5feb936630b5272ce"
   },
   "outputs": [],
   "source": [
    "category = pd.read_csv('../input/category_tree.csv').dropna()\n",
    "print('Shape:', category.shape)\n",
    "print('Columns', category.columns.tolist())\n",
    "category.head()"
   ]
  },
  {
   "cell_type": "code",
   "execution_count": null,
   "metadata": {
    "_uuid": "d2c05672df6346359143ca3f6120ee9c972e5ad1"
   },
   "outputs": [],
   "source": [
    "category_parent_dict = category.set_index('categoryid').T.to_dict('list')\n",
    "\n",
    "pd.options.mode.chained_assignment = None\n",
    "item_category['parentid'] = item_category.categoryid.apply(lambda x: int(category_parent_dict.get(int(x), [x])[0]))\n",
    "\n",
    "item_category.head()"
   ]
  },
  {
   "cell_type": "markdown",
   "metadata": {
    "_uuid": "22600384bec89a9ad5d6dbe5391c7c349f4249a5"
   },
   "source": [
    "Here, we got the relationship of **itemid - categoryid - parentid**."
   ]
  },
  {
   "cell_type": "markdown",
   "metadata": {
    "_uuid": "1eeb7e2ab50810b6d6807fa33f68e9e7c6ca4ca2"
   },
   "source": [
    "## Modeling by LightFM"
   ]
  },
  {
   "cell_type": "code",
   "execution_count": null,
   "metadata": {
    "_uuid": "d5f739d00dc2e9d7497739d37c5f769f2ac6ea98"
   },
   "outputs": [],
   "source": [
    "# Format the timestamp as a date and arrange it in chronological order. \n",
    "events = events.assign(date=pd.Series(datetime.datetime.fromtimestamp(i/1000).date() for i in events.timestamp))\n",
    "events = events.sort_values('date').reset_index(drop=True)\n",
    "events = events[['visitorid','itemid','event', 'date']]"
   ]
  },
  {
   "cell_type": "code",
   "execution_count": null,
   "metadata": {
    "_uuid": "20b48441ab73f9d3acf202ea4ada1e3cf6d93432"
   },
   "outputs": [],
   "source": [
    "events.head()"
   ]
  },
  {
   "cell_type": "code",
   "execution_count": null,
   "metadata": {
    "_uuid": "9c2cdba1e5086f2ed5d27cce63868e1ecdd898e3"
   },
   "outputs": [],
   "source": [
    "events.tail()"
   ]
  },
  {
   "cell_type": "markdown",
   "metadata": {
    "_uuid": "0ec81a20a3eb1dc96b656fe9053aebb7b36419aa"
   },
   "source": [
    "\n",
    "\n",
    "Since the calculation is time consuming, I am not going to use all the data."
   ]
  },
  {
   "cell_type": "code",
   "execution_count": null,
   "metadata": {
    "_uuid": "5aea319961ed4e5b8095f87299b2fa370c351a3d"
   },
   "outputs": [],
   "source": [
    "start_date = '2015-5-3'\n",
    "end_date = '2015-5-18'\n",
    "fd = lambda x: datetime.datetime.strptime(x, '%Y-%m-%d').date()\n",
    "events = events[(events.date >= fd(start_date)) & (events.date <= fd(end_date))]"
   ]
  },
  {
   "cell_type": "code",
   "execution_count": null,
   "metadata": {
    "_uuid": "ea95268c4550729f930c3b7d4e52d5b07652d5f4"
   },
   "outputs": [],
   "source": [
    "# Divide training sets and test sets\n",
    "split_point = np.int(np.round(events.shape[0]*0.8))\n",
    "events_train = events.iloc[0:split_point]\n",
    "events_test = events.iloc[split_point::]\n",
    "events_test = events_test[(events_test['visitorid'].isin(events_train['visitorid'])) & (events_test['itemid'].isin(events_train['itemid']))]"
   ]
  },
  {
   "cell_type": "code",
   "execution_count": null,
   "metadata": {
    "_uuid": "26c451e8c4ad368ee14b6bc135d233084b673e9c"
   },
   "outputs": [],
   "source": [
    "id_cols=['visitorid','itemid']\n",
    "trans_cat_train=dict()\n",
    "trans_cat_test=dict()\n",
    "\n",
    "for k in id_cols:\n",
    "    cate_enc=preprocessing.LabelEncoder()\n",
    "    trans_cat_train[k]=cate_enc.fit_transform(events_train[k].values)\n",
    "    trans_cat_test[k]=cate_enc.transform(events_test[k].values)"
   ]
  },
  {
   "cell_type": "code",
   "execution_count": null,
   "metadata": {
    "_uuid": "26171089351851d7ed0bafa754f6cddaad2219cd"
   },
   "outputs": [],
   "source": [
    "ratings = dict()\n",
    "\n",
    "cate_enc=preprocessing.LabelEncoder()\n",
    "ratings['train'] = cate_enc.fit_transform(events_train.event)\n",
    "ratings['test'] = cate_enc.transform(events_test.event)"
   ]
  },
  {
   "cell_type": "code",
   "execution_count": null,
   "metadata": {
    "_uuid": "208439f6d59aecba1e47f13bf686cad1a5a4776d"
   },
   "outputs": [],
   "source": [
    "n_users=len(np.unique(trans_cat_train['visitorid']))\n",
    "n_items=len(np.unique(trans_cat_train['itemid']))"
   ]
  },
  {
   "cell_type": "code",
   "execution_count": null,
   "metadata": {
    "_uuid": "d1cf2d756f38c767560db17b611712d850dd163f"
   },
   "outputs": [],
   "source": [
    "rate_matrix = dict()\n",
    "rate_matrix['train'] = coo_matrix((ratings['train'], (trans_cat_train['visitorid'], trans_cat_train['itemid'])), shape=(n_users,n_items))\n",
    "rate_matrix['test'] = coo_matrix((ratings['test'], (trans_cat_test['visitorid'], trans_cat_test['itemid'])), shape=(n_users,n_items))"
   ]
  },
  {
   "cell_type": "code",
   "execution_count": null,
   "metadata": {
    "_uuid": "b49dc603e3c0fdbddcdd982a59e7fb911ddced6c"
   },
   "outputs": [],
   "source": [
    "model = LightFM(no_components=5, loss='warp')\n",
    "model.fit(rate_matrix['train'], epochs=100, num_threads=8)"
   ]
  },
  {
   "cell_type": "code",
   "execution_count": null,
   "metadata": {
    "_uuid": "04026ff301dfbdb87f7065dacefffdb9ab03127e"
   },
   "outputs": [],
   "source": [
    "auc_score(model, rate_matrix['train'], num_threads=8).mean()"
   ]
  },
  {
   "cell_type": "code",
   "execution_count": null,
   "metadata": {
    "_uuid": "87adf788a6fb9afba42201aa49ad95148c08d12a"
   },
   "outputs": [],
   "source": [
    "auc_score(model, rate_matrix['test'], num_threads=8).mean()"
   ]
  }
 ],
 "metadata": {
  "kernelspec": {
   "display_name": "Python 3",
   "language": "python",
   "name": "python3"
  },
  "language_info": {
   "codemirror_mode": {
    "name": "ipython",
    "version": 3
   },
   "file_extension": ".py",
   "mimetype": "text/x-python",
   "name": "python",
   "nbconvert_exporter": "python",
   "pygments_lexer": "ipython3",
   "version": "3.6.5"
  }
 },
 "nbformat": 4,
 "nbformat_minor": 1
}
